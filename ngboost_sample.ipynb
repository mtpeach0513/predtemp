{
 "cells": [
  {
   "cell_type": "code",
   "execution_count": 1,
   "metadata": {},
   "outputs": [],
   "source": [
    "from ngboost import NGBRegressor\n",
    "\n",
    "from sklearn.datasets import load_boston\n",
    "from sklearn.model_selection import train_test_split\n",
    "from sklearn.metrics import mean_squared_error"
   ]
  },
  {
   "cell_type": "code",
   "execution_count": 2,
   "metadata": {},
   "outputs": [
    {
     "name": "stderr",
     "output_type": "stream",
     "text": [
      "C:\\ProgramData\\Anaconda3\\envs\\works\\lib\\site-packages\\sklearn\\utils\\validation.py:70: FutureWarning: Pass return_X_y=True as keyword args. From version 0.25 passing these as positional arguments will result in an error\n",
      "  FutureWarning)\n"
     ]
    }
   ],
   "source": [
    "X, y = load_boston(True)\n",
    "X_train, X_test, y_train, y_test = train_test_split(X, y, test_size=0.2)"
   ]
  },
  {
   "cell_type": "code",
   "execution_count": 3,
   "metadata": {},
   "outputs": [
    {
     "name": "stdout",
     "output_type": "stream",
     "text": [
      "[iter 0] loss=3.6580 val_loss=0.0000 scale=1.0000 norm=6.9011\n",
      "[iter 100] loss=2.7713 val_loss=0.0000 scale=2.0000 norm=5.2672\n",
      "[iter 200] loss=2.2075 val_loss=0.0000 scale=2.0000 norm=3.5009\n",
      "[iter 300] loss=1.9162 val_loss=0.0000 scale=2.0000 norm=2.9835\n",
      "[iter 400] loss=1.7729 val_loss=0.0000 scale=1.0000 norm=1.3712\n"
     ]
    }
   ],
   "source": [
    "ngb = NGBRegressor().fit(X_train, y_train)\n",
    "y_preds = ngb.predict(X_test)\n",
    "y_dists = ngb.pred_dist(X_test)"
   ]
  },
  {
   "cell_type": "code",
   "execution_count": 4,
   "metadata": {},
   "outputs": [
    {
     "name": "stdout",
     "output_type": "stream",
     "text": [
      "test MSE:  6.286404645599724\n"
     ]
    }
   ],
   "source": [
    "test_mse = mean_squared_error(y_preds, y_test)\n",
    "print('test MSE: ', test_mse)"
   ]
  },
  {
   "cell_type": "code",
   "execution_count": 6,
   "metadata": {},
   "outputs": [
    {
     "name": "stdout",
     "output_type": "stream",
     "text": [
      "test NLL:  2.7606787244753614\n"
     ]
    }
   ],
   "source": [
    "test_nll = -y_dists.logpdf(y_test).mean()\n",
    "print('test NLL: ', test_nll)"
   ]
  },
  {
   "cell_type": "code",
   "execution_count": 7,
   "metadata": {},
   "outputs": [
    {
     "data": {
      "text/plain": [
       "{'loc': array([17.10336786, 23.11443264, 20.38513284, 14.75620587, 16.93061225]),\n",
       " 'scale': array([1.1952456 , 1.44391403, 1.34923582, 2.51317375, 1.74519129])}"
      ]
     },
     "execution_count": 7,
     "metadata": {},
     "output_type": "execute_result"
    }
   ],
   "source": [
    "# テストセットの最初の5つの予測値の平均と標準偏差\n",
    "y_dists[:5].params"
   ]
  },
  {
   "cell_type": "code",
   "execution_count": 8,
   "metadata": {},
   "outputs": [
    {
     "name": "stdout",
     "output_type": "stream",
     "text": [
      "[iter 0] loss=3.6580 val_loss=0.0000 scale=1.0000 norm=6.9011\n",
      "[iter 100] loss=2.7713 val_loss=0.0000 scale=2.0000 norm=5.2672\n",
      "[iter 200] loss=2.2075 val_loss=0.0000 scale=2.0000 norm=3.5009\n",
      "[iter 300] loss=1.9162 val_loss=0.0000 scale=2.0000 norm=2.9835\n",
      "[iter 400] loss=1.7729 val_loss=0.0000 scale=1.0000 norm=1.3712\n",
      "[iter 0] loss=4.1275 val_loss=0.0000 scale=1.0000 norm=0.2995\n",
      "[iter 100] loss=4.0557 val_loss=0.0000 scale=2.0000 norm=0.2133\n",
      "[iter 200] loss=4.0499 val_loss=0.0000 scale=2.0000 norm=0.1588\n",
      "[iter 300] loss=4.0485 val_loss=0.0000 scale=1.0000 norm=0.0698\n",
      "[iter 400] loss=4.0477 val_loss=0.0000 scale=2.0000 norm=0.1257\n"
     ]
    }
   ],
   "source": [
    "from ngboost.distns import Exponential, Normal\n",
    "\n",
    "ngb_norm = NGBRegressor(Dist=Normal).fit(X_train, y_train)\n",
    "ngb_exp = NGBRegressor(Dist=Exponential).fit(X_train, y_train)"
   ]
  },
  {
   "cell_type": "code",
   "execution_count": 10,
   "metadata": {},
   "outputs": [
    {
     "data": {
      "text/plain": [
       "array([16.92633767, 23.44031883, 20.03124883, 15.55709207, 16.90218892])"
      ]
     },
     "execution_count": 10,
     "metadata": {},
     "output_type": "execute_result"
    }
   ],
   "source": [
    "ngb_norm.predict(X_test)[:5]"
   ]
  },
  {
   "cell_type": "code",
   "execution_count": 11,
   "metadata": {},
   "outputs": [
    {
     "data": {
      "text/plain": [
       "array([16.92633767, 23.44031883, 20.03124883, 15.55709207, 16.90218892])"
      ]
     },
     "execution_count": 11,
     "metadata": {},
     "output_type": "execute_result"
    }
   ],
   "source": [
    "ngb_exp.predict(X_test)[:5]"
   ]
  },
  {
   "cell_type": "code",
   "execution_count": 12,
   "metadata": {},
   "outputs": [
    {
     "data": {
      "text/plain": [
       "{'scale': array([16.92633767, 23.44031883, 20.03124883, 15.55709207, 16.90218892])}"
      ]
     },
     "execution_count": 12,
     "metadata": {},
     "output_type": "execute_result"
    }
   ],
   "source": [
    "ngb_exp.pred_dist(X_test)[:5].params"
   ]
  },
  {
   "cell_type": "code",
   "execution_count": 13,
   "metadata": {},
   "outputs": [
    {
     "name": "stderr",
     "output_type": "stream",
     "text": [
      "C:\\ProgramData\\Anaconda3\\envs\\works\\lib\\site-packages\\sklearn\\utils\\validation.py:70: FutureWarning: Pass return_X_y=True as keyword args. From version 0.25 passing these as positional arguments will result in an error\n",
      "  FutureWarning)\n"
     ]
    },
    {
     "name": "stdout",
     "output_type": "stream",
     "text": [
      "[iter 0] loss=1.2801 val_loss=0.0000 scale=4.0000 norm=2.3218\n",
      "[iter 100] loss=0.5722 val_loss=0.0000 scale=2.0000 norm=0.8470\n",
      "[iter 200] loss=0.3160 val_loss=0.0000 scale=2.0000 norm=0.5059\n",
      "[iter 300] loss=0.1231 val_loss=0.0000 scale=2.0000 norm=0.2619\n",
      "[iter 400] loss=0.0033 val_loss=0.0000 scale=2.0000 norm=0.2021\n"
     ]
    }
   ],
   "source": [
    "import numpy as np\n",
    "from ngboost import NGBSurvival\n",
    "from ngboost.distns import LogNormal\n",
    "\n",
    "X, Y = load_boston(True)\n",
    "X_surv_train, X_surv_test, Y_surv_train, Y_surv_test = train_test_split(X, Y, test_size=0.2)\n",
    "\n",
    "# introduce administrative censoring to simulate survival data\n",
    "T_surv_train = np.minimum(Y_surv_train, 30) # time of an event or censoring\n",
    "E_surv_train = Y_surv_train > 30 # 1 if T[i] is the time of an event, 0 if it's a time of censoring\n",
    "\n",
    "ngb = NGBSurvival(Dist=LogNormal).fit(X_surv_train, T_surv_train, E_surv_train)"
   ]
  },
  {
   "cell_type": "code",
   "execution_count": null,
   "metadata": {},
   "outputs": [],
   "source": []
  }
 ],
 "metadata": {
  "kernelspec": {
   "display_name": "Python 3",
   "language": "python",
   "name": "python3"
  },
  "language_info": {
   "codemirror_mode": {
    "name": "ipython",
    "version": 3
   },
   "file_extension": ".py",
   "mimetype": "text/x-python",
   "name": "python",
   "nbconvert_exporter": "python",
   "pygments_lexer": "ipython3",
   "version": "3.6.10"
  }
 },
 "nbformat": 4,
 "nbformat_minor": 4
}
