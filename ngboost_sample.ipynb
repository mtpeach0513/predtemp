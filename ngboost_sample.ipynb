{
 "cells": [
  {
   "cell_type": "code",
   "execution_count": 1,
   "metadata": {},
   "outputs": [],
   "source": [
    "from ngboost import NGBRegressor\n",
    "\n",
    "from sklearn.datasets import load_boston\n",
    "from sklearn.model_selection import train_test_split\n",
    "from sklearn.metrics import mean_squared_error"
   ]
  },
  {
   "cell_type": "code",
   "execution_count": 2,
   "metadata": {},
   "outputs": [
    {
     "name": "stderr",
     "output_type": "stream",
     "text": [
      "C:\\ProgramData\\Anaconda3\\envs\\works\\lib\\site-packages\\sklearn\\utils\\validation.py:70: FutureWarning: Pass return_X_y=True as keyword args. From version 0.25 passing these as positional arguments will result in an error\n",
      "  FutureWarning)\n"
     ]
    }
   ],
   "source": [
    "X, y = load_boston(True)\n",
    "X_train, X_test, y_train, y_test = train_test_split(X, y, test_size=0.2)"
   ]
  },
  {
   "cell_type": "code",
   "execution_count": 3,
   "metadata": {},
   "outputs": [
    {
     "name": "stdout",
     "output_type": "stream",
     "text": [
      "[iter 0] loss=3.6580 val_loss=0.0000 scale=1.0000 norm=6.9011\n",
      "[iter 100] loss=2.7713 val_loss=0.0000 scale=2.0000 norm=5.2672\n",
      "[iter 200] loss=2.2075 val_loss=0.0000 scale=2.0000 norm=3.5009\n",
      "[iter 300] loss=1.9162 val_loss=0.0000 scale=2.0000 norm=2.9835\n",
      "[iter 400] loss=1.7729 val_loss=0.0000 scale=1.0000 norm=1.3712\n"
     ]
    }
   ],
   "source": [
    "ngb = NGBRegressor().fit(X_train, y_train)\n",
    "y_preds = ngb.predict(X_test)\n",
    "y_dists = ngb.pred_dist(X_test)"
   ]
  },
  {
   "cell_type": "code",
   "execution_count": 4,
   "metadata": {},
   "outputs": [
    {
     "name": "stdout",
     "output_type": "stream",
     "text": [
      "test MSE:  6.286404645599724\n"
     ]
    }
   ],
   "source": [
    "test_mse = mean_squared_error(y_preds, y_test)\n",
    "print('test MSE: ', test_mse)"
   ]
  },
  {
   "cell_type": "code",
   "execution_count": 6,
   "metadata": {},
   "outputs": [
    {
     "name": "stdout",
     "output_type": "stream",
     "text": [
      "test NLL:  2.7606787244753614\n"
     ]
    }
   ],
   "source": [
    "test_nll = -y_dists.logpdf(y_test).mean()\n",
    "print('test NLL: ', test_nll)"
   ]
  },
  {
   "cell_type": "code",
   "execution_count": null,
   "metadata": {},
   "outputs": [],
   "source": []
  }
 ],
 "metadata": {
  "kernelspec": {
   "display_name": "Python 3",
   "language": "python",
   "name": "python3"
  },
  "language_info": {
   "codemirror_mode": {
    "name": "ipython",
    "version": 3
   },
   "file_extension": ".py",
   "mimetype": "text/x-python",
   "name": "python",
   "nbconvert_exporter": "python",
   "pygments_lexer": "ipython3",
   "version": "3.6.10"
  }
 },
 "nbformat": 4,
 "nbformat_minor": 4
}
